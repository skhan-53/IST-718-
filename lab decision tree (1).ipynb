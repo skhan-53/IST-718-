{
 "cells": [
  {
   "cell_type": "code",
   "execution_count": 1,
   "id": "de2f18a4",
   "metadata": {},
   "outputs": [
    {
     "name": "stderr",
     "output_type": "stream",
     "text": [
      "2023-03-09 20:27:48.754698: I tensorflow/core/platform/cpu_feature_guard.cc:193] This TensorFlow binary is optimized with oneAPI Deep Neural Network Library (oneDNN) to use the following CPU instructions in performance-critical operations:  AVX2 FMA\n",
      "To enable them in other operations, rebuild TensorFlow with the appropriate compiler flags.\n"
     ]
    },
    {
     "name": "stdout",
     "output_type": "stream",
     "text": [
      "Decision Tree Classifier accuracy: 0.787\n"
     ]
    }
   ],
   "source": [
    "import numpy as np\n",
    "from sklearn.tree import DecisionTreeClassifier\n",
    "from sklearn.metrics import accuracy_score\n",
    "from tensorflow.keras.datasets import fashion_mnist\n",
    "\n",
    "# Load Fashion MNIST dataset\n",
    "(x_train, y_train), (x_test, y_test) = fashion_mnist.load_data()\n",
    "\n",
    "# Reshape data into 1D arrays and normalize pixel values\n",
    "x_train = x_train.reshape((x_train.shape[0], -1)) / 255.0\n",
    "x_test = x_test.reshape((x_test.shape[0], -1)) / 255.0\n",
    "\n",
    "# Initialize and train Decision Tree Classifier\n",
    "dt = DecisionTreeClassifier()\n",
    "dt.fit(x_train, y_train)\n",
    "\n",
    "# Predict on test data and calculate accuracy\n",
    "y_pred = dt.predict(x_test)\n",
    "acc = accuracy_score(y_test, y_pred)\n",
    "\n",
    "print(\"Decision Tree Classifier accuracy:\", acc)\n"
   ]
  },
  {
   "cell_type": "code",
   "execution_count": 2,
   "id": "203d8376",
   "metadata": {},
   "outputs": [
    {
     "name": "stderr",
     "output_type": "stream",
     "text": [
      "2023-03-09 21:07:30.097382: I tensorflow/core/platform/cpu_feature_guard.cc:193] This TensorFlow binary is optimized with oneAPI Deep Neural Network Library (oneDNN) to use the following CPU instructions in performance-critical operations:  AVX2 FMA\n",
      "To enable them in other operations, rebuild TensorFlow with the appropriate compiler flags.\n",
      "WARNING:absl:`lr` is deprecated, please use `learning_rate` instead, or use the legacy optimizer, e.g.,tf.keras.optimizers.legacy.Adam.\n"
     ]
    },
    {
     "name": "stdout",
     "output_type": "stream",
     "text": [
      "Epoch 1/10\n",
      "1500/1500 [==============================] - 3s 2ms/step - loss: 0.5187 - accuracy: 0.8179 - val_loss: 0.4427 - val_accuracy: 0.8400\n",
      "Epoch 2/10\n",
      "1500/1500 [==============================] - 2s 2ms/step - loss: 0.3933 - accuracy: 0.8579 - val_loss: 0.3719 - val_accuracy: 0.8648\n",
      "Epoch 3/10\n",
      "1500/1500 [==============================] - 2s 2ms/step - loss: 0.3523 - accuracy: 0.8715 - val_loss: 0.3739 - val_accuracy: 0.8675\n",
      "Epoch 4/10\n",
      "1500/1500 [==============================] - 2s 2ms/step - loss: 0.3232 - accuracy: 0.8829 - val_loss: 0.3682 - val_accuracy: 0.8643\n",
      "Epoch 5/10\n",
      "1500/1500 [==============================] - 3s 2ms/step - loss: 0.3053 - accuracy: 0.8873 - val_loss: 0.3292 - val_accuracy: 0.8823\n",
      "Epoch 6/10\n",
      "1500/1500 [==============================] - 2s 2ms/step - loss: 0.2887 - accuracy: 0.8940 - val_loss: 0.3249 - val_accuracy: 0.8852\n",
      "Epoch 7/10\n",
      "1500/1500 [==============================] - 2s 2ms/step - loss: 0.2744 - accuracy: 0.8984 - val_loss: 0.3682 - val_accuracy: 0.8687\n",
      "Epoch 8/10\n",
      "1500/1500 [==============================] - 2s 2ms/step - loss: 0.2633 - accuracy: 0.9026 - val_loss: 0.3217 - val_accuracy: 0.8871\n",
      "Epoch 9/10\n",
      "1500/1500 [==============================] - 2s 2ms/step - loss: 0.2532 - accuracy: 0.9048 - val_loss: 0.3336 - val_accuracy: 0.8830\n",
      "Epoch 10/10\n",
      "1500/1500 [==============================] - 2s 2ms/step - loss: 0.2437 - accuracy: 0.9095 - val_loss: 0.3129 - val_accuracy: 0.8900\n",
      "313/313 [==============================] - 0s 982us/step - loss: 0.3434 - accuracy: 0.8825\n",
      "Test accuracy: 0.8824999928474426\n"
     ]
    }
   ],
   "source": [
    "import tensorflow as tf\n",
    "from tensorflow import keras\n",
    "from tensorflow.keras.layers import Dense, Flatten\n",
    "from tensorflow.keras.optimizers import Adam\n",
    "\n",
    "# Load the Fashion-MNIST dataset\n",
    "(x_train, y_train), (x_test, y_test) = tf.keras.datasets.fashion_mnist.load_data()\n",
    "\n",
    "# Preprocess the data\n",
    "x_train = x_train.astype('float32') / 255.0\n",
    "x_test = x_test.astype('float32') / 255.0\n",
    "\n",
    "# Define the MLP model\n",
    "model = keras.Sequential([\n",
    "    Flatten(input_shape=(28, 28)),\n",
    "    Dense(128, activation='relu'),\n",
    "    Dense(10, activation='softmax')\n",
    "])\n",
    "\n",
    "# Compile the model\n",
    "optimizer = Adam(lr=0.001)\n",
    "model.compile(optimizer=optimizer,\n",
    "              loss='sparse_categorical_crossentropy',\n",
    "              metrics=['accuracy'])\n",
    "\n",
    "# Train the model\n",
    "model.fit(x_train, y_train, epochs=10, batch_size=32, validation_split=0.2)\n",
    "\n",
    "# Evaluate the model on the test set\n",
    "test_loss, test_acc = model.evaluate(x_test, y_test)\n",
    "print('Test accuracy:', test_acc)\n"
   ]
  },
  {
   "cell_type": "code",
   "execution_count": null,
   "id": "a3a70c26",
   "metadata": {},
   "outputs": [],
   "source": []
  }
 ],
 "metadata": {
  "kernelspec": {
   "display_name": "Python 3 (ipykernel)",
   "language": "python",
   "name": "python3"
  },
  "language_info": {
   "codemirror_mode": {
    "name": "ipython",
    "version": 3
   },
   "file_extension": ".py",
   "mimetype": "text/x-python",
   "name": "python",
   "nbconvert_exporter": "python",
   "pygments_lexer": "ipython3",
   "version": "3.9.13"
  }
 },
 "nbformat": 4,
 "nbformat_minor": 5
}
